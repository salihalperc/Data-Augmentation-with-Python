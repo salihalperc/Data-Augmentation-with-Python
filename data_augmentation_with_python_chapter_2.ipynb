{
  "cells": [
    {
      "cell_type": "markdown",
      "metadata": {
        "id": "view-in-github",
        "colab_type": "text"
      },
      "source": [
        "<a href=\"https://colab.research.google.com/github/salihalperc/Data-Augmentation-with-Python/blob/main/data_augmentation_with_python_chapter_2.ipynb\" target=\"_parent\"><img src=\"https://colab.research.google.com/assets/colab-badge.svg\" alt=\"Open In Colab\"/></a>"
      ]
    },
    {
      "cell_type": "markdown",
      "metadata": {
        "id": "a5EqgaYW08Cm"
      },
      "source": [
        "# 🌻 Welcome to Chapter 2, Biases In Data Augmentation\n",
        "\n",
        "---\n",
        "\n",
        "I am glad to see you using this Python Notebook. 🐕\n",
        "\n",
        "The Python Notebook is an integral part of the book. You can add new “code cells” to extend the functions, add your data, and explore new possibilities, such as downloading additional real-world datasets from the Kaggle website and coding the **Fun challenges**. Furthermore, the book has **Fun facts**, in-depth discussion about augmentation techniques, and Pluto, an imaginary Siberian Huskey coding companion. Together they will guide you every steps of the way.\n",
        "\n",
        "Pluto encourages you to copy or save a copy of this Python Notebook to your local space and add the “text cells” to keep your notes. In other words, read the book and copy the relevant concept to this Python Notebook’s text-cells. Thus, you can have the explanation, note, original code, your code, and any crazy future ideas in one place.  \n",
        "\n",
        "\n",
        "💗 I hope you enjoy reading the book and hacking code as much as I enjoy writing it.\n",
        "\n",
        "\n",
        "## 🌟 Amazon Book\n",
        "\n",
        "---\n",
        "\n",
        "- The book is available on the Amazon Book website:\n",
        "  - https://www.amazon.com/dp/1803246456\n",
        "\n",
        "  - Author: Duc Haba\n",
        "  - Published: 2023\n",
        "  - Page count: 390+\n",
        "\n",
        "\n",
        "- The original Python Notebook is on:\n",
        "\n",
        "  - https://github.com/PacktPublishing/Data-Augmentation-with-Python/blob/main/Chapter_2/data_augmentation_with_python_chapter_2.ipynb\n",
        "\n",
        "- 🚀 Click on the blue \"Open in Colab\" button at the top of this page to begin hacking.\n"
      ]
    },
    {
      "cell_type": "markdown",
      "metadata": {
        "id": "Zr2G6GSmF_za"
      },
      "source": [
        "# 😀 Excerpt from Chapter 2, Biases In Data Augmentation\n",
        "\n",
        "---\n",
        "\n",
        "> In case you haven’t bought the book. Here is an excerpt from the first page of Chapter 2.\n",
        "\n",
        "---\n",
        "\n",
        "Artificial intelligence (AI) embeds in our society, and biases in AI systems will adversely affect your quality of life. These AI systems, particularly in deep learning (DL) and generative AI, depend on the input data you are using to extend data augmentation.\n",
        "\n",
        "AI systems rely heavily on data to make decisions, and if the data used to train the system is biased, then the AI system will make unfair decisions. It will lead to the unjust treatment of individuals or groups and perpetuate systemic inequalities. AI plays a decisive role in life-changing decisions, such as how much your monthly mortgage insurance rate is, whether you can be approved for a car loan, your application qualification for a job, who will receive government assistance, how much you pay for milk, what you read on social media newsfeeds, and how much oil your country will import or export, to name a few.\n",
        "\n",
        "By learning data biases before diving deep into learning data augmentation, you will help develop ethical and fair AI systems that benefit society. It will help you make informed decisions about the data they use and prevent the perpetuation of existing biases and inequalities. Additionally, understanding data bias will help you make informed decisions about the data collection process and ensure it’s representative and unbiased.\n",
        "\n",
        "Data biases may be problematic for data scientists and college students because they are seldom discussed or unavailable in college courses. There is no ready-made fairness matrix to follow programmatically for data augmentation. Maybe by using the latest generative AI, the biases can be done by computer and not heavily rely on humans.\n",
        "\n",
        "There are many strategies to provide protected and safe software products and services, but the AI system requires new processes and perspectives. Trustworthy and responsible AI is about fairness, ethical design, and minimizing biases. Achieving trustworthy AI starts with transparency, datasets, test, evaluation, validation, and verification (TEVV), as defined by the Standard for Identifying and Managing Bias in Artificial Intelligence, National Institute of Standards and Technology (NIST) special publication 1270.\n",
        "\n",
        "---\n",
        "Fun fact\n",
        "\n",
        "---\n",
        "\n",
        "In 2016, Twitter corrupted the Microsoft AI chatbot Tay in 1 day. Microsoft created Tay for online casual and playful conversation. Tay was designed to learn and take input from raw, uncurated data and comments from the web. The Twitter community thought it would be fun to teach Tay with misogynistic, racist, and violent tweets. To this day, Tay is a poster child for lessons learned in data bias input for AI. As one blogger put it, “Flaming garbage pile in, flaming garbage pile out.”\n",
        "\n",
        "---\n",
        "\n",
        "This chapter will provide a crash course on recognizing the differences in computation, human, and systemic biases. We will learn about bias but not practice how to compute bias programmatically. The fairness and confusion matrixes are used to gauge AI’s prediction in terms of true-positive, false-positive, true-negative, and false-negative. However, the fairness and confusion matrixes are used for building AI systems, not data augmentation. While looking at real-world text datasets, we will attempt to write Python code for a fairness matrix with word counts and misspelled words, but for the most part, we will rely on Pluto and your observations to name the biases in image and text data.\n",
        "\n",
        "The Python code in this chapter will focus on helping you learn how to download real-world datasets from the Kaggle website. The later chapters will reuse the helper and wrapper functions shown in this chapter.\n",
        "\n",
        "By the end of this chapter, you will have a deeper appreciation for a balanced dataset. In particular, we will cover the following topics:\n",
        "\n",
        "- Computational biases\n",
        "\n",
        "- Human biases\n",
        "\n",
        "- Systemic biases\n",
        "\n",
        "- Python Notebook\n",
        "\n",
        "- Image biases\n",
        "\n",
        "- Text biases\n",
        "\n",
        "Pluto will begin with the easier of the three biases – computational biases.\n",
        "\n",
        "---\n",
        "\n",
        "🌴 *end of excerpt from the book*\n"
      ]
    },
    {
      "cell_type": "markdown",
      "metadata": {
        "id": "psur6TottXJs"
      },
      "source": [
        "# GitHub Clone"
      ]
    },
    {
      "cell_type": "code",
      "execution_count": 1,
      "metadata": {
        "id": "-e-E23OC33r_",
        "outputId": "d61f9f6e-3267-424c-fa4c-489e3d621659",
        "colab": {
          "base_uri": "https://localhost:8080/"
        }
      },
      "outputs": [
        {
          "output_type": "stream",
          "name": "stdout",
          "text": [
            "git version 2.34.1\n"
          ]
        }
      ],
      "source": [
        "# git version should be 2.17.1 or higher\n",
        "!git --version"
      ]
    },
    {
      "cell_type": "code",
      "execution_count": 2,
      "metadata": {
        "id": "Kk-kUBgEnYzg",
        "outputId": "0c2c06a2-32a4-490a-d200-46c54592536a",
        "colab": {
          "base_uri": "https://localhost:8080/"
        }
      },
      "outputs": [
        {
          "output_type": "stream",
          "name": "stdout",
          "text": [
            "Cloning into 'Data-Augmentation-with-Python'...\n",
            "remote: Enumerating objects: 486, done.\u001b[K\n",
            "remote: Counting objects: 100% (464/464), done.\u001b[K\n",
            "remote: Compressing objects: 100% (285/285), done.\u001b[K\n",
            "remote: Total 486 (delta 256), reused 362 (delta 178), pack-reused 22 (from 1)\u001b[K\n",
            "Receiving objects: 100% (486/486), 139.55 MiB | 24.37 MiB/s, done.\n",
            "Resolving deltas: 100% (256/256), done.\n",
            "Updating files: 100% (58/58), done.\n"
          ]
        }
      ],
      "source": [
        "url = 'https://github.com/PacktPublishing/Data-Augmentation-with-Python'\n",
        "!git clone {url}"
      ]
    },
    {
      "cell_type": "markdown",
      "metadata": {
        "id": "ktmuZO3xteG1"
      },
      "source": [
        "## (Optional) Fetch file from URL"
      ]
    },
    {
      "cell_type": "markdown",
      "metadata": {
        "id": "wGPwtc1p9zQu"
      },
      "source": [
        "- Uncommend the below 2 code cells if you want to use URL and not Git Clone"
      ]
    },
    {
      "cell_type": "code",
      "execution_count": 3,
      "metadata": {
        "id": "oObUsdZcj3Hk"
      },
      "outputs": [],
      "source": [
        "# import requests\n",
        "# #\n",
        "# def fetch_file(url, dst):\n",
        "#   downloaded_obj = requests.get(url)\n",
        "#   with open(dst, \"wb\") as file:\n",
        "#     file.write(downloaded_obj.content)\n",
        "#   return"
      ]
    },
    {
      "cell_type": "code",
      "execution_count": 39,
      "metadata": {
        "id": "Nrz6ykdEj3RT"
      },
      "outputs": [],
      "source": [
        "# url = ''\n",
        "# dst = 'pluto_chapter_1.py'\n",
        "# fetch_file(url,dst)"
      ]
    },
    {
      "cell_type": "markdown",
      "metadata": {
        "id": "yuljFGYftoyb"
      },
      "source": [
        "# Run Pluto"
      ]
    },
    {
      "cell_type": "code",
      "execution_count": 4,
      "metadata": {
        "id": "dDqYkFLYgSGV",
        "outputId": "ec040160-064e-4d4e-f521-cad0556c08c1",
        "colab": {
          "base_uri": "https://localhost:8080/"
        }
      },
      "outputs": [
        {
          "output_type": "stream",
          "name": "stdout",
          "text": [
            "---------------------------- : ----------------------------\n",
            "            Hello from class : <class '__main__.PacktDataAug'> Class: PacktDataAug\n",
            "                   Code name : Pluto\n",
            "                   Author is : Duc Haba\n",
            "---------------------------- : ----------------------------\n"
          ]
        }
      ],
      "source": [
        "#load and run the pluto chapter 1 Python code.\n",
        "pluto_file = 'Data-Augmentation-with-Python/pluto/pluto_chapter_1.py'\n",
        "%run {pluto_file}"
      ]
    },
    {
      "cell_type": "markdown",
      "metadata": {
        "id": "WqZKpMYA3YO1"
      },
      "source": [
        "# Verify Pluto"
      ]
    },
    {
      "cell_type": "code",
      "execution_count": 5,
      "metadata": {
        "id": "DFMl76ungbF7",
        "outputId": "08ac0ef5-b60b-4cc1-8d06-7d32c59437a6",
        "colab": {
          "base_uri": "https://localhost:8080/"
        }
      },
      "outputs": [
        {
          "output_type": "stream",
          "name": "stdout",
          "text": [
            "---------------------------- : ----------------------------\n",
            "                 System time : 2025/03/14 07:51\n",
            "                    Platform : linux\n",
            "     Pluto Version (Chapter) : 1.0\n",
            "             Python (3.7.10) : actual: 3.11.11 (main, Dec  4 2024, 08:55:07) [GCC 11.4.0]\n",
            "            PyTorch (1.11.0) : actual: 2.5.1+cu124\n",
            "              Pandas (1.3.5) : actual: 2.2.2\n",
            "                 PIL (9.0.0) : actual: 11.1.0\n",
            "          Matplotlib (3.2.2) : actual: 3.10.0\n",
            "                   CPU count : 2\n",
            "                   CPU speed : 2.00 GHz\n",
            "               CPU max speed : 0.00 GHz\n",
            "---------------------------- : ----------------------------\n"
          ]
        }
      ],
      "source": [
        "pluto.say_sys_info()"
      ]
    },
    {
      "cell_type": "markdown",
      "metadata": {
        "id": "-jrAWhOY92ik"
      },
      "source": [
        "- (Optional) Copy the Pluto chapter 1 to begin chapter 2"
      ]
    },
    {
      "cell_type": "code",
      "execution_count": 6,
      "metadata": {
        "id": "c0FKopIH-LZS"
      },
      "outputs": [],
      "source": [
        "pluto_chapter_2 = 'Data-Augmentation-with-Python/pluto/pluto_chapter_2.py'\n",
        "!cp {pluto_file} {pluto_chapter_2}"
      ]
    },
    {
      "cell_type": "markdown",
      "metadata": {
        "id": "Y9azxfCb7tu4"
      },
      "source": [
        "# ✋ Get Kaggle ID, key, and setup\n",
        "\n",
        "✋ STOP\n",
        "\n",
        "1. First, sign up on kaggle.com. Get username and api key (refer to the book, Chapter 2)\n",
        "\n",
        "2. Second, You MUST join the State Farm Distracted Driver Competition on the Kaggle website to download the data.\n",
        "  - Go to: https://www.kaggle.com/competitions/state-farm-distracted-driver-detection/overview and click on the \"Join Competition\" button"
      ]
    },
    {
      "cell_type": "code",
      "execution_count": 7,
      "metadata": {
        "id": "lrIk0IyLjubl",
        "outputId": "587d8654-2e98-47bd-eda9-70b0c2e54abb",
        "colab": {
          "base_uri": "https://localhost:8080/"
        }
      },
      "outputs": [
        {
          "output_type": "stream",
          "name": "stdout",
          "text": [
            "Collecting opendatasets\n",
            "  Downloading opendatasets-0.1.22-py3-none-any.whl.metadata (9.2 kB)\n",
            "Requirement already satisfied: tqdm in /usr/local/lib/python3.11/dist-packages (from opendatasets) (4.67.1)\n",
            "Requirement already satisfied: kaggle in /usr/local/lib/python3.11/dist-packages (from opendatasets) (1.6.17)\n",
            "Requirement already satisfied: click in /usr/local/lib/python3.11/dist-packages (from opendatasets) (8.1.8)\n",
            "Requirement already satisfied: six>=1.10 in /usr/local/lib/python3.11/dist-packages (from kaggle->opendatasets) (1.17.0)\n",
            "Requirement already satisfied: certifi>=2023.7.22 in /usr/local/lib/python3.11/dist-packages (from kaggle->opendatasets) (2025.1.31)\n",
            "Requirement already satisfied: python-dateutil in /usr/local/lib/python3.11/dist-packages (from kaggle->opendatasets) (2.8.2)\n",
            "Requirement already satisfied: requests in /usr/local/lib/python3.11/dist-packages (from kaggle->opendatasets) (2.32.3)\n",
            "Requirement already satisfied: python-slugify in /usr/local/lib/python3.11/dist-packages (from kaggle->opendatasets) (8.0.4)\n",
            "Requirement already satisfied: urllib3 in /usr/local/lib/python3.11/dist-packages (from kaggle->opendatasets) (2.3.0)\n",
            "Requirement already satisfied: bleach in /usr/local/lib/python3.11/dist-packages (from kaggle->opendatasets) (6.2.0)\n",
            "Requirement already satisfied: webencodings in /usr/local/lib/python3.11/dist-packages (from bleach->kaggle->opendatasets) (0.5.1)\n",
            "Requirement already satisfied: text-unidecode>=1.3 in /usr/local/lib/python3.11/dist-packages (from python-slugify->kaggle->opendatasets) (1.3)\n",
            "Requirement already satisfied: charset-normalizer<4,>=2 in /usr/local/lib/python3.11/dist-packages (from requests->kaggle->opendatasets) (3.4.1)\n",
            "Requirement already satisfied: idna<4,>=2.5 in /usr/local/lib/python3.11/dist-packages (from requests->kaggle->opendatasets) (3.10)\n",
            "Downloading opendatasets-0.1.22-py3-none-any.whl (15 kB)\n",
            "Installing collected packages: opendatasets\n",
            "Successfully installed opendatasets-0.1.22\n"
          ]
        }
      ],
      "source": [
        "# %%CARRY-OVER install\n",
        "\n",
        "# easy method to download kaggle data files\n",
        "!pip install opendatasets --upgrade"
      ]
    },
    {
      "cell_type": "code",
      "execution_count": 8,
      "metadata": {
        "id": "oA9BmaTrAhjB"
      },
      "outputs": [],
      "source": [
        "# %%writefile -a {pluto_chapter_2}\n",
        "\n",
        "pluto.version = 2.0\n",
        "import opendatasets\n",
        "#\n",
        "@add_method(PacktDataAug)\n",
        "def remember_kaggle_access_keys(self,username,key):\n",
        "  self.kaggle_username = username\n",
        "  self.kaggle_key = key\n",
        "  return"
      ]
    },
    {
      "cell_type": "code",
      "execution_count": 9,
      "metadata": {
        "id": "sLI0Yku39gzm",
        "outputId": "43f8701f-89c9-4069-9431-041491e758fb",
        "colab": {
          "base_uri": "https://localhost:8080/"
        }
      },
      "outputs": [
        {
          "output_type": "stream",
          "name": "stdout",
          "text": [
            "\n",
            "required version 0.1.22 or higher:  0.1.22\n"
          ]
        }
      ],
      "source": [
        "print(\"\\nrequired version 0.1.22 or higher: \", opendatasets.__version__)"
      ]
    },
    {
      "cell_type": "code",
      "execution_count": 10,
      "metadata": {
        "id": "xlzyUNdHfJF_"
      },
      "outputs": [],
      "source": [
        "# %%writefile -a {pluto_chapter_2}\n",
        "\n",
        "@add_method(PacktDataAug)\n",
        "def _write_kaggle_credit(self):\n",
        "  creds = '{\"username\":\"'+self.kaggle_username+'\",\"key\":\"'+self.kaggle_key+'\"}'\n",
        "  kdirs = [\"~/.kaggle/kaggle.json\", \"./kaggle.json\"]\n",
        "  #\n",
        "  for k in kdirs:\n",
        "    cred_path = pathlib.Path(k).expanduser()\n",
        "    cred_path.parent.mkdir(exist_ok=True)\n",
        "    cred_path.write_text(creds)\n",
        "    cred_path.chmod(0o600)\n",
        "  import kaggle\n",
        "  #\n",
        "  return\n",
        "#\n",
        "@add_method(PacktDataAug)\n",
        "def fetch_kaggle_comp_data(self,cname):\n",
        "  #self._write_kaggle_credit()  # need to run only once.\n",
        "  path = pathlib.Path(cname)\n",
        "  kaggle.api.competition_download_cli(str(path))\n",
        "  zipfile.ZipFile(f'{path}.zip').extractall(path)\n",
        "  return\n",
        "#\n",
        "#\n",
        "@add_method(PacktDataAug)\n",
        "def fetch_kaggle_dataset(self,url,dest=\"kaggle\"):\n",
        "  #self._write_kaggle_credit()    # need to run only once.\n",
        "  opendatasets.download(url,data_dir=dest)\n",
        "  return"
      ]
    },
    {
      "cell_type": "markdown",
      "metadata": {
        "id": "o44jBb0J96Ae"
      },
      "source": [
        "✋ STOP\n",
        "\n",
        "- user (your_kaggle_username) and (your_kaggle_api_key)"
      ]
    },
    {
      "cell_type": "code",
      "execution_count": 46,
      "metadata": {
        "id": "zzdhZW3qTTr7"
      },
      "outputs": [],
      "source": [
        "# %%CARRY-OVER code\n",
        "\n",
        "pluto.remember_kaggle_access_keys(\"salihalpercetin\", \"f6386b5aac79850adfb67f2e6740f482\")\n",
        "\n",
        "pluto._write_kaggle_credit()\n",
        "import kaggle"
      ]
    },
    {
      "cell_type": "markdown",
      "metadata": {
        "id": "DmuApvJnHbNu"
      },
      "source": [
        "# Fetch State Farm real-world dataset"
      ]
    },
    {
      "cell_type": "code",
      "execution_count": 11,
      "metadata": {
        "id": "JlsPtSrcD1m2"
      },
      "outputs": [],
      "source": [
        "# %%writefile -a {pluto_chapter_2}\n",
        "\n",
        "import zipfile\n",
        "import os"
      ]
    },
    {
      "cell_type": "markdown",
      "metadata": {
        "id": "msyHmKjHHBx8"
      },
      "source": [
        "✋ STOP\n",
        "\n",
        "- You must join the State Farm Kaggle competition to download the data.\n",
        "\n",
        "- Go to: https://www.kaggle.com/competitions/state-farm-distracted-driver-detection/overview and click on the \"Join Competition\" button"
      ]
    },
    {
      "cell_type": "code",
      "execution_count": 48,
      "metadata": {
        "id": "RjQn8Y-FAUMs",
        "outputId": "0b887178-ffcd-4a38-eb10-d3c6f74da6ea",
        "colab": {
          "base_uri": "https://localhost:8080/",
          "height": 597
        }
      },
      "outputs": [
        {
          "output_type": "error",
          "ename": "ApiException",
          "evalue": "(401)\nReason: Unauthorized\nHTTP response headers: HTTPHeaderDict({'Content-Type': 'application/json', 'Date': 'Thu, 13 Mar 2025 12:54:52 GMT', 'Access-Control-Allow-Credentials': 'true', 'Access-Control-Allow-Origin': '*', 'Set-Cookie': 'ka_sessionid=7f32e4574ab64505d031416906f1aa81; max-age=2626560; path=/, GCLB=COLgzrCdhLynlQEQAw; path=/; HttpOnly', 'Vary': 'Accept-Encoding', 'X-Kaggle-MillisecondsElapsed': '1', 'X-Kaggle-RequestId': 'fc187aee841a0e99606e8045a5449a33', 'X-Kaggle-ApiVersion': '1.7.4', 'X-Kaggle-HubVersion': '0.3.10', 'X-Frame-Options': 'SAMEORIGIN', 'Strict-Transport-Security': 'max-age=63072000; includeSubDomains; preload', 'Content-Security-Policy': \"object-src 'none'; script-src 'nonce-3y3Bp3zFQLuhQEsasruvbA==' 'report-sample' 'unsafe-inline' 'unsafe-eval' 'strict-dynamic' https: http:; base-uri 'none'; report-uri https://csp.withgoogle.com/csp/kaggle/20201130; frame-src 'self' https://www.kaggleusercontent.com https://www.youtube.com/embed/ https://polygraph-cool.github.io https://www.google.com/recaptcha/ https://www.docdroid.com https://www.docdroid.net https://kaggle-static.storage.googleapis.com https://kkb-production.jupyter-proxy.kaggle.net https://kkb-production.firebaseapp.com https://kaggle-metastore.firebaseapp.com https://apis.google.com https://content-sheets.googleapis.com/ https://accounts.google.com/ https://storage.googleapis.com https://docs.google.com https://drive.google.com https://calendar.google.com/ https://google.qualtrics.com/ ;\", 'X-Content-Type-Options': 'nosniff', 'Referrer-Policy': 'strict-origin-when-cross-origin', 'Via': '1.1 google', 'Alt-Svc': 'h3=\":443\"; ma=2592000,h3-29=\":443\"; ma=2592000', 'Transfer-Encoding': 'chunked'})\nHTTP response body: b'{\"code\":401,\"message\":\"Unauthenticated\"}'\n",
          "traceback": [
            "\u001b[0;31m---------------------------------------------------------------------------\u001b[0m",
            "\u001b[0;31mApiException\u001b[0m                              Traceback (most recent call last)",
            "\u001b[0;32m<ipython-input-48-2eea6ad432bd>\u001b[0m in \u001b[0;36m<cell line: 0>\u001b[0;34m()\u001b[0m\n\u001b[1;32m      1\u001b[0m \u001b[0mkaggle_competition_name\u001b[0m \u001b[0;34m=\u001b[0m \u001b[0;34m\"state-farm-distracted-driver-detection\"\u001b[0m\u001b[0;34m\u001b[0m\u001b[0;34m\u001b[0m\u001b[0m\n\u001b[0;32m----> 2\u001b[0;31m \u001b[0mpluto\u001b[0m\u001b[0;34m.\u001b[0m\u001b[0mfetch_kaggle_comp_data\u001b[0m\u001b[0;34m(\u001b[0m\u001b[0mkaggle_competition_name\u001b[0m\u001b[0;34m)\u001b[0m\u001b[0;34m\u001b[0m\u001b[0;34m\u001b[0m\u001b[0m\n\u001b[0m",
            "\u001b[0;32m/content/Data-Augmentation-with-Python/pluto/pluto_chapter_1.py\u001b[0m in \u001b[0;36my\u001b[0;34m(*args, **kwargs)\u001b[0m\n\u001b[1;32m    112\u001b[0m     \u001b[0;34m@\u001b[0m\u001b[0mfunctools\u001b[0m\u001b[0;34m.\u001b[0m\u001b[0mwraps\u001b[0m\u001b[0;34m(\u001b[0m\u001b[0mz\u001b[0m\u001b[0;34m)\u001b[0m\u001b[0;34m\u001b[0m\u001b[0;34m\u001b[0m\u001b[0m\n\u001b[1;32m    113\u001b[0m     \u001b[0;32mdef\u001b[0m \u001b[0my\u001b[0m\u001b[0;34m(\u001b[0m\u001b[0;34m*\u001b[0m\u001b[0margs\u001b[0m\u001b[0;34m,\u001b[0m \u001b[0;34m**\u001b[0m\u001b[0mkwargs\u001b[0m\u001b[0;34m)\u001b[0m\u001b[0;34m:\u001b[0m\u001b[0;34m\u001b[0m\u001b[0;34m\u001b[0m\u001b[0m\n\u001b[0;32m--> 114\u001b[0;31m       \u001b[0;32mreturn\u001b[0m \u001b[0mz\u001b[0m\u001b[0;34m(\u001b[0m\u001b[0;34m*\u001b[0m\u001b[0margs\u001b[0m\u001b[0;34m,\u001b[0m \u001b[0;34m**\u001b[0m\u001b[0mkwargs\u001b[0m\u001b[0;34m)\u001b[0m\u001b[0;34m\u001b[0m\u001b[0;34m\u001b[0m\u001b[0m\n\u001b[0m\u001b[1;32m    115\u001b[0m     \u001b[0msetattr\u001b[0m\u001b[0;34m(\u001b[0m\u001b[0mx\u001b[0m\u001b[0;34m,\u001b[0m \u001b[0mz\u001b[0m\u001b[0;34m.\u001b[0m\u001b[0m__name__\u001b[0m\u001b[0;34m,\u001b[0m \u001b[0my\u001b[0m\u001b[0;34m)\u001b[0m\u001b[0;34m\u001b[0m\u001b[0;34m\u001b[0m\u001b[0m\n\u001b[1;32m    116\u001b[0m     \u001b[0;32mreturn\u001b[0m \u001b[0mz\u001b[0m\u001b[0;34m\u001b[0m\u001b[0;34m\u001b[0m\u001b[0m\n",
            "\u001b[0;32m<ipython-input-45-a5639385df5f>\u001b[0m in \u001b[0;36mfetch_kaggle_comp_data\u001b[0;34m(self, cname)\u001b[0m\n\u001b[1;32m     19\u001b[0m   \u001b[0;31m#self._write_kaggle_credit()  # need to run only once.\u001b[0m\u001b[0;34m\u001b[0m\u001b[0;34m\u001b[0m\u001b[0m\n\u001b[1;32m     20\u001b[0m   \u001b[0mpath\u001b[0m \u001b[0;34m=\u001b[0m \u001b[0mpathlib\u001b[0m\u001b[0;34m.\u001b[0m\u001b[0mPath\u001b[0m\u001b[0;34m(\u001b[0m\u001b[0mcname\u001b[0m\u001b[0;34m)\u001b[0m\u001b[0;34m\u001b[0m\u001b[0;34m\u001b[0m\u001b[0m\n\u001b[0;32m---> 21\u001b[0;31m   \u001b[0mkaggle\u001b[0m\u001b[0;34m.\u001b[0m\u001b[0mapi\u001b[0m\u001b[0;34m.\u001b[0m\u001b[0mcompetition_download_cli\u001b[0m\u001b[0;34m(\u001b[0m\u001b[0mstr\u001b[0m\u001b[0;34m(\u001b[0m\u001b[0mpath\u001b[0m\u001b[0;34m)\u001b[0m\u001b[0;34m)\u001b[0m\u001b[0;34m\u001b[0m\u001b[0;34m\u001b[0m\u001b[0m\n\u001b[0m\u001b[1;32m     22\u001b[0m   \u001b[0mzipfile\u001b[0m\u001b[0;34m.\u001b[0m\u001b[0mZipFile\u001b[0m\u001b[0;34m(\u001b[0m\u001b[0;34mf'{path}.zip'\u001b[0m\u001b[0;34m)\u001b[0m\u001b[0;34m.\u001b[0m\u001b[0mextractall\u001b[0m\u001b[0;34m(\u001b[0m\u001b[0mpath\u001b[0m\u001b[0;34m)\u001b[0m\u001b[0;34m\u001b[0m\u001b[0;34m\u001b[0m\u001b[0m\n\u001b[1;32m     23\u001b[0m   \u001b[0;32mreturn\u001b[0m\u001b[0;34m\u001b[0m\u001b[0;34m\u001b[0m\u001b[0m\n",
            "\u001b[0;32m/usr/local/lib/python3.11/dist-packages/kaggle/api/kaggle_api_extended.py\u001b[0m in \u001b[0;36mcompetition_download_cli\u001b[0;34m(self, competition, competition_opt, file_name, path, force, quiet)\u001b[0m\n\u001b[1;32m   1035\u001b[0m         \u001b[0;32melse\u001b[0m\u001b[0;34m:\u001b[0m\u001b[0;34m\u001b[0m\u001b[0;34m\u001b[0m\u001b[0m\n\u001b[1;32m   1036\u001b[0m             \u001b[0;32mif\u001b[0m \u001b[0mfile_name\u001b[0m \u001b[0;32mis\u001b[0m \u001b[0;32mNone\u001b[0m\u001b[0;34m:\u001b[0m\u001b[0;34m\u001b[0m\u001b[0;34m\u001b[0m\u001b[0m\n\u001b[0;32m-> 1037\u001b[0;31m                 self.competition_download_files(competition, path, force,\n\u001b[0m\u001b[1;32m   1038\u001b[0m                                                 quiet)\n\u001b[1;32m   1039\u001b[0m             \u001b[0;32melse\u001b[0m\u001b[0;34m:\u001b[0m\u001b[0;34m\u001b[0m\u001b[0;34m\u001b[0m\u001b[0m\n",
            "\u001b[0;32m/usr/local/lib/python3.11/dist-packages/kaggle/api/kaggle_api_extended.py\u001b[0m in \u001b[0;36mcompetition_download_files\u001b[0;34m(self, competition, path, force, quiet)\u001b[0m\n\u001b[1;32m    996\u001b[0m \u001b[0;34m\u001b[0m\u001b[0m\n\u001b[1;32m    997\u001b[0m         response = self.process_response(\n\u001b[0;32m--> 998\u001b[0;31m             self.competitions_data_download_files_with_http_info(\n\u001b[0m\u001b[1;32m    999\u001b[0m                 id=competition, _preload_content=False))\n\u001b[1;32m   1000\u001b[0m         \u001b[0murl\u001b[0m \u001b[0;34m=\u001b[0m \u001b[0mresponse\u001b[0m\u001b[0;34m.\u001b[0m\u001b[0mretries\u001b[0m\u001b[0;34m.\u001b[0m\u001b[0mhistory\u001b[0m\u001b[0;34m[\u001b[0m\u001b[0;36m0\u001b[0m\u001b[0;34m]\u001b[0m\u001b[0;34m.\u001b[0m\u001b[0mredirect_location\u001b[0m\u001b[0;34m.\u001b[0m\u001b[0msplit\u001b[0m\u001b[0;34m(\u001b[0m\u001b[0;34m'?'\u001b[0m\u001b[0;34m)\u001b[0m\u001b[0;34m[\u001b[0m\u001b[0;36m0\u001b[0m\u001b[0;34m]\u001b[0m\u001b[0;34m\u001b[0m\u001b[0;34m\u001b[0m\u001b[0m\n",
            "\u001b[0;32m/usr/local/lib/python3.11/dist-packages/kaggle/api/kaggle_api.py\u001b[0m in \u001b[0;36mcompetitions_data_download_files_with_http_info\u001b[0;34m(self, id, **kwargs)\u001b[0m\n\u001b[1;32m    382\u001b[0m         \u001b[0mauth_settings\u001b[0m \u001b[0;34m=\u001b[0m \u001b[0;34m[\u001b[0m\u001b[0;34m'basicAuth'\u001b[0m\u001b[0;34m]\u001b[0m  \u001b[0;31m# noqa: E501\u001b[0m\u001b[0;34m\u001b[0m\u001b[0;34m\u001b[0m\u001b[0m\n\u001b[1;32m    383\u001b[0m \u001b[0;34m\u001b[0m\u001b[0m\n\u001b[0;32m--> 384\u001b[0;31m         return self.api_client.call_api(\n\u001b[0m\u001b[1;32m    385\u001b[0m             \u001b[0;34m'/competitions/data/download-all/{id}'\u001b[0m\u001b[0;34m,\u001b[0m \u001b[0;34m'GET'\u001b[0m\u001b[0;34m,\u001b[0m\u001b[0;34m\u001b[0m\u001b[0;34m\u001b[0m\u001b[0m\n\u001b[1;32m    386\u001b[0m             \u001b[0mpath_params\u001b[0m\u001b[0;34m,\u001b[0m\u001b[0;34m\u001b[0m\u001b[0;34m\u001b[0m\u001b[0m\n",
            "\u001b[0;32m/usr/local/lib/python3.11/dist-packages/kaggle/api_client.py\u001b[0m in \u001b[0;36mcall_api\u001b[0;34m(self, resource_path, method, path_params, query_params, header_params, body, post_params, files, response_type, auth_settings, async_req, _return_http_data_only, collection_formats, _preload_content, _request_timeout)\u001b[0m\n\u001b[1;32m    311\u001b[0m         \"\"\"\n\u001b[1;32m    312\u001b[0m         \u001b[0;32mif\u001b[0m \u001b[0;32mnot\u001b[0m \u001b[0masync_req\u001b[0m\u001b[0;34m:\u001b[0m\u001b[0;34m\u001b[0m\u001b[0;34m\u001b[0m\u001b[0m\n\u001b[0;32m--> 313\u001b[0;31m             return self.__call_api(resource_path, method,\n\u001b[0m\u001b[1;32m    314\u001b[0m                                    \u001b[0mpath_params\u001b[0m\u001b[0;34m,\u001b[0m \u001b[0mquery_params\u001b[0m\u001b[0;34m,\u001b[0m \u001b[0mheader_params\u001b[0m\u001b[0;34m,\u001b[0m\u001b[0;34m\u001b[0m\u001b[0;34m\u001b[0m\u001b[0m\n\u001b[1;32m    315\u001b[0m                                    \u001b[0mbody\u001b[0m\u001b[0;34m,\u001b[0m \u001b[0mpost_params\u001b[0m\u001b[0;34m,\u001b[0m \u001b[0mfiles\u001b[0m\u001b[0;34m,\u001b[0m\u001b[0;34m\u001b[0m\u001b[0;34m\u001b[0m\u001b[0m\n",
            "\u001b[0;32m/usr/local/lib/python3.11/dist-packages/kaggle/api_client.py\u001b[0m in \u001b[0;36m__call_api\u001b[0;34m(self, resource_path, method, path_params, query_params, header_params, body, post_params, files, response_type, auth_settings, _return_http_data_only, collection_formats, _preload_content, _request_timeout)\u001b[0m\n\u001b[1;32m    143\u001b[0m \u001b[0;34m\u001b[0m\u001b[0m\n\u001b[1;32m    144\u001b[0m         \u001b[0;31m# perform request and return response\u001b[0m\u001b[0;34m\u001b[0m\u001b[0;34m\u001b[0m\u001b[0m\n\u001b[0;32m--> 145\u001b[0;31m         response_data = self.request(\n\u001b[0m\u001b[1;32m    146\u001b[0m             \u001b[0mmethod\u001b[0m\u001b[0;34m,\u001b[0m \u001b[0murl\u001b[0m\u001b[0;34m,\u001b[0m \u001b[0mquery_params\u001b[0m\u001b[0;34m=\u001b[0m\u001b[0mquery_params\u001b[0m\u001b[0;34m,\u001b[0m \u001b[0mheaders\u001b[0m\u001b[0;34m=\u001b[0m\u001b[0mheader_params\u001b[0m\u001b[0;34m,\u001b[0m\u001b[0;34m\u001b[0m\u001b[0;34m\u001b[0m\u001b[0m\n\u001b[1;32m    147\u001b[0m             \u001b[0mpost_params\u001b[0m\u001b[0;34m=\u001b[0m\u001b[0mpost_params\u001b[0m\u001b[0;34m,\u001b[0m \u001b[0mbody\u001b[0m\u001b[0;34m=\u001b[0m\u001b[0mbody\u001b[0m\u001b[0;34m,\u001b[0m\u001b[0;34m\u001b[0m\u001b[0;34m\u001b[0m\u001b[0m\n",
            "\u001b[0;32m/usr/local/lib/python3.11/dist-packages/kaggle/api_client.py\u001b[0m in \u001b[0;36mrequest\u001b[0;34m(self, method, url, query_params, headers, post_params, body, _preload_content, _request_timeout)\u001b[0m\n\u001b[1;32m    333\u001b[0m         \u001b[0;34m\"\"\"Makes the HTTP request using RESTClient.\"\"\"\u001b[0m\u001b[0;34m\u001b[0m\u001b[0;34m\u001b[0m\u001b[0m\n\u001b[1;32m    334\u001b[0m         \u001b[0;32mif\u001b[0m \u001b[0mmethod\u001b[0m \u001b[0;34m==\u001b[0m \u001b[0;34m\"GET\"\u001b[0m\u001b[0;34m:\u001b[0m\u001b[0;34m\u001b[0m\u001b[0;34m\u001b[0m\u001b[0m\n\u001b[0;32m--> 335\u001b[0;31m             return self.rest_client.GET(url,\n\u001b[0m\u001b[1;32m    336\u001b[0m                                         \u001b[0mquery_params\u001b[0m\u001b[0;34m=\u001b[0m\u001b[0mquery_params\u001b[0m\u001b[0;34m,\u001b[0m\u001b[0;34m\u001b[0m\u001b[0;34m\u001b[0m\u001b[0m\n\u001b[1;32m    337\u001b[0m                                         \u001b[0m_preload_content\u001b[0m\u001b[0;34m=\u001b[0m\u001b[0m_preload_content\u001b[0m\u001b[0;34m,\u001b[0m\u001b[0;34m\u001b[0m\u001b[0;34m\u001b[0m\u001b[0m\n",
            "\u001b[0;32m/usr/local/lib/python3.11/dist-packages/kaggle/rest.py\u001b[0m in \u001b[0;36mGET\u001b[0;34m(self, url, headers, query_params, _preload_content, _request_timeout)\u001b[0m\n\u001b[1;32m    229\u001b[0m     def GET(self, url, headers=None, query_params=None, _preload_content=True,\n\u001b[1;32m    230\u001b[0m             _request_timeout=None):\n\u001b[0;32m--> 231\u001b[0;31m         return self.request(\"GET\", url,\n\u001b[0m\u001b[1;32m    232\u001b[0m                             \u001b[0mheaders\u001b[0m\u001b[0;34m=\u001b[0m\u001b[0mheaders\u001b[0m\u001b[0;34m,\u001b[0m\u001b[0;34m\u001b[0m\u001b[0;34m\u001b[0m\u001b[0m\n\u001b[1;32m    233\u001b[0m                             \u001b[0m_preload_content\u001b[0m\u001b[0;34m=\u001b[0m\u001b[0m_preload_content\u001b[0m\u001b[0;34m,\u001b[0m\u001b[0;34m\u001b[0m\u001b[0;34m\u001b[0m\u001b[0m\n",
            "\u001b[0;32m/usr/local/lib/python3.11/dist-packages/kaggle/rest.py\u001b[0m in \u001b[0;36mrequest\u001b[0;34m(self, method, url, query_params, headers, body, post_params, _preload_content, _request_timeout)\u001b[0m\n\u001b[1;32m    223\u001b[0m \u001b[0;34m\u001b[0m\u001b[0m\n\u001b[1;32m    224\u001b[0m         \u001b[0;32mif\u001b[0m \u001b[0;32mnot\u001b[0m \u001b[0;36m200\u001b[0m \u001b[0;34m<=\u001b[0m \u001b[0mr\u001b[0m\u001b[0;34m.\u001b[0m\u001b[0mstatus\u001b[0m \u001b[0;34m<=\u001b[0m \u001b[0;36m299\u001b[0m\u001b[0;34m:\u001b[0m\u001b[0;34m\u001b[0m\u001b[0;34m\u001b[0m\u001b[0m\n\u001b[0;32m--> 225\u001b[0;31m             \u001b[0;32mraise\u001b[0m \u001b[0mApiException\u001b[0m\u001b[0;34m(\u001b[0m\u001b[0mhttp_resp\u001b[0m\u001b[0;34m=\u001b[0m\u001b[0mr\u001b[0m\u001b[0;34m)\u001b[0m\u001b[0;34m\u001b[0m\u001b[0;34m\u001b[0m\u001b[0m\n\u001b[0m\u001b[1;32m    226\u001b[0m \u001b[0;34m\u001b[0m\u001b[0m\n\u001b[1;32m    227\u001b[0m         \u001b[0;32mreturn\u001b[0m \u001b[0mr\u001b[0m\u001b[0;34m\u001b[0m\u001b[0;34m\u001b[0m\u001b[0m\n",
            "\u001b[0;31mApiException\u001b[0m: (401)\nReason: Unauthorized\nHTTP response headers: HTTPHeaderDict({'Content-Type': 'application/json', 'Date': 'Thu, 13 Mar 2025 12:54:52 GMT', 'Access-Control-Allow-Credentials': 'true', 'Access-Control-Allow-Origin': '*', 'Set-Cookie': 'ka_sessionid=7f32e4574ab64505d031416906f1aa81; max-age=2626560; path=/, GCLB=COLgzrCdhLynlQEQAw; path=/; HttpOnly', 'Vary': 'Accept-Encoding', 'X-Kaggle-MillisecondsElapsed': '1', 'X-Kaggle-RequestId': 'fc187aee841a0e99606e8045a5449a33', 'X-Kaggle-ApiVersion': '1.7.4', 'X-Kaggle-HubVersion': '0.3.10', 'X-Frame-Options': 'SAMEORIGIN', 'Strict-Transport-Security': 'max-age=63072000; includeSubDomains; preload', 'Content-Security-Policy': \"object-src 'none'; script-src 'nonce-3y3Bp3zFQLuhQEsasruvbA==' 'report-sample' 'unsafe-inline' 'unsafe-eval' 'strict-dynamic' https: http:; base-uri 'none'; report-uri https://csp.withgoogle.com/csp/kaggle/20201130; frame-src 'self' https://www.kaggleusercontent.com https://www.youtube.com/embed/ https://polygraph-cool.github.io https://www.google.com/recaptcha/ https://www.docdroid.com https://www.docdroid.net https://kaggle-static.storage.googleapis.com https://kkb-production.jupyter-proxy.kaggle.net https://kkb-production.firebaseapp.com https://kaggle-metastore.firebaseapp.com https://apis.google.com https://content-sheets.googleapis.com/ https://accounts.google.com/ https://storage.googleapis.com https://docs.google.com https://drive.google.com https://calendar.google.com/ https://google.qualtrics.com/ ;\", 'X-Content-Type-Option...\nHTTP response body: b'{\"code\":401,\"message\":\"Unauthenticated\"}'\n"
          ]
        }
      ],
      "source": [
        "kaggle_competition_name = \"state-farm-distracted-driver-detection\"\n",
        "pluto.fetch_kaggle_comp_data(kaggle_competition_name)"
      ]
    },
    {
      "cell_type": "markdown",
      "metadata": {
        "id": "PkNc5RNH-k7L"
      },
      "source": [
        "## Quick view"
      ]
    },
    {
      "cell_type": "code",
      "execution_count": null,
      "metadata": {
        "id": "o4brCy6pHgBU"
      },
      "outputs": [],
      "source": [
        "# quick view one image\n",
        "f = 'state-farm-distracted-driver-detection/imgs/train/c0/img_100026.jpg'\n",
        "img = PIL.Image.open(f)\n",
        "display(img)"
      ]
    },
    {
      "cell_type": "markdown",
      "metadata": {
        "id": "LFwEBM-owqDU"
      },
      "source": [
        "# Import to Pandas"
      ]
    },
    {
      "cell_type": "code",
      "execution_count": 12,
      "metadata": {
        "id": "jbz6nKN8SaqS"
      },
      "outputs": [],
      "source": [
        "# %%writefile -a {pluto_chapter_2}\n",
        "\n",
        "@add_method(PacktDataAug)\n",
        "def fetch_df(self, csv,sep=','):\n",
        "  df = pandas.read_csv(csv, encoding='latin-1', sep=sep)\n",
        "  return df\n",
        "#\n",
        "@add_method(PacktDataAug)\n",
        "def _fetch_larger_font(self):\n",
        "  heading_properties = [('font-size', '20px')]\n",
        "  cell_properties = [('font-size', '18px')]\n",
        "  dfstyle = [dict(selector=\"th\", props=heading_properties),\n",
        "    dict(selector=\"td\", props=cell_properties)]\n",
        "  return dfstyle"
      ]
    },
    {
      "cell_type": "code",
      "execution_count": null,
      "metadata": {
        "id": "T4PtPK9yAUTO"
      },
      "outputs": [],
      "source": [
        "f = 'state-farm-distracted-driver-detection/driver_imgs_list.csv'\n",
        "pluto.df_sf_data = pluto.fetch_df(f)"
      ]
    },
    {
      "cell_type": "code",
      "execution_count": null,
      "metadata": {
        "id": "RCQBHimuG7y3"
      },
      "outputs": [],
      "source": [
        "# pluto.df_sf_data.tail(3)\n",
        "# larger fonts\n",
        "pluto.df_sf_data.tail(3).style.set_table_styles(pluto._fetch_larger_font())"
      ]
    },
    {
      "cell_type": "code",
      "execution_count": null,
      "metadata": {
        "id": "V7eS4Svou-fJ"
      },
      "outputs": [],
      "source": [
        "pluto.df_sf_data.describe()"
      ]
    },
    {
      "cell_type": "code",
      "execution_count": 13,
      "metadata": {
        "id": "fds6nk64Q78Y"
      },
      "outputs": [],
      "source": [
        "# %%writefile -a {pluto_chapter_2}\n",
        "\n",
        "@add_method(PacktDataAug)\n",
        "def build_sf_fname(self, df):\n",
        "  root = 'state-farm-distracted-driver-detection/imgs/train/'\n",
        "  df[\"fname\"] = root + df.classname+'/'+df.img\n",
        "  return"
      ]
    },
    {
      "cell_type": "code",
      "execution_count": null,
      "metadata": {
        "id": "HNwTrfCGSPfz"
      },
      "outputs": [],
      "source": [
        "pluto.build_sf_fname(pluto.df_sf_data)"
      ]
    },
    {
      "cell_type": "code",
      "execution_count": null,
      "metadata": {
        "id": "0WJhKFR2JaTF"
      },
      "outputs": [],
      "source": [
        "# pluto.df_sf_data.head(3)\n",
        "# use larger font\n",
        "pluto.df_sf_data.head(3).style.set_table_styles(pluto._fetch_larger_font())"
      ]
    },
    {
      "cell_type": "markdown",
      "metadata": {
        "id": "A5StcAzNE-W_"
      },
      "source": [
        "- Verify the fname is correct"
      ]
    },
    {
      "cell_type": "code",
      "execution_count": null,
      "metadata": {
        "id": "P2oKH7i3u-h9"
      },
      "outputs": [],
      "source": [
        "img = PIL.Image.open(pluto.df_sf_data.fname[0])\n",
        "display(img)"
      ]
    },
    {
      "cell_type": "markdown",
      "metadata": {
        "id": "jPJDMqrwHhCR"
      },
      "source": [
        "# Draw or Display the Photos"
      ]
    },
    {
      "cell_type": "code",
      "execution_count": 14,
      "metadata": {
        "id": "24Ow2g2SAUP8"
      },
      "outputs": [],
      "source": [
        "# %%writefile -a {pluto_chapter_2}\n",
        "\n",
        "# set internal counter for image to be zero, e.g. pluto0.jpg, pluto1.jpg, etc.\n",
        "pluto.fname_id = 0\n",
        "#\n",
        "@add_method(PacktDataAug)\n",
        "def _drop_image(self,canvas, fname=None,format=\".jpg\",dname=\"Data-Augmentation-with-Python/pluto_img\"):\n",
        "  if (fname is None):\n",
        "    self.fname_id += 1\n",
        "    if not os.path.exists(dname):\n",
        "      os.makedirs(dname)\n",
        "    fn = f'{dname}/pluto{self.fname_id}{format}'\n",
        "  else:\n",
        "    fn = fname\n",
        "  canvas.savefig(fn, bbox_inches=\"tight\", pad_inches=0.25)\n",
        "  return\n",
        "#\n",
        "@add_method(PacktDataAug)\n",
        "def draw_batch(self,df_filenames, disp_max=10,is_shuffle=False, figsize=(16,8)):\n",
        "  disp_col = 5\n",
        "  disp_row = int(numpy.round((disp_max/disp_col)+0.4, 0))\n",
        "  _fns = list(df_filenames)\n",
        "  if (is_shuffle):\n",
        "    numpy.random.shuffle(_fns)\n",
        "  k = 0\n",
        "  clean_fns = []\n",
        "  if (len(_fns) >= disp_max):\n",
        "    canvas, pic = matplotlib.pyplot.subplots(disp_row,disp_col, figsize=figsize)\n",
        "    for i in range(disp_row):\n",
        "      for j in range(disp_col):\n",
        "        try:\n",
        "          im = PIL.Image.open(_fns[k])\n",
        "          pic[i][j].imshow(im)\n",
        "          pic[i][j].set_title(pathlib.Path(_fns[k]).name)\n",
        "          clean_fns.append(_fns[k])\n",
        "        except:\n",
        "          pic[i][j].set_title(pathlib.Path(_fns[k]).name)\n",
        "        k += 1\n",
        "    canvas.tight_layout()\n",
        "    self._drop_image(canvas)\n",
        "    canvas.show()\n",
        "  else:\n",
        "    print(\"**Warning: the length should be more then \", disp_max, \". The given length: \", len(_fns))\n",
        "  return clean_fns"
      ]
    },
    {
      "cell_type": "markdown",
      "metadata": {
        "id": "xLpFNMbhosse"
      },
      "source": [
        "## State Farm"
      ]
    },
    {
      "cell_type": "code",
      "execution_count": null,
      "metadata": {
        "id": "wBHg630AQ7-4"
      },
      "outputs": [],
      "source": [
        "x = pluto.draw_batch(pluto.df_sf_data[\"fname\"], is_shuffle=True)"
      ]
    },
    {
      "cell_type": "code",
      "execution_count": null,
      "metadata": {
        "id": "YDRAN9CMUPu_"
      },
      "outputs": [],
      "source": [
        "x = pluto.draw_batch(pluto.df_sf_data[\"fname\"], is_shuffle=True,disp_max=20,figsize=(18,14))"
      ]
    },
    {
      "cell_type": "markdown",
      "metadata": {
        "id": "vC6194qMFkjI"
      },
      "source": [
        "## Nike Shoe"
      ]
    },
    {
      "cell_type": "markdown",
      "metadata": {
        "id": "-twSheiJDcqw"
      },
      "source": [
        "- For Nike, Adidas and Converse Shoes Images"
      ]
    },
    {
      "cell_type": "code",
      "execution_count": null,
      "metadata": {
        "id": "976ioIMEDb14"
      },
      "outputs": [],
      "source": [
        "url = 'https://www.kaggle.com/datasets/die9origephit/nike-adidas-and-converse-imaged'\n",
        "pluto.fetch_kaggle_dataset(url)"
      ]
    },
    {
      "cell_type": "code",
      "execution_count": 15,
      "metadata": {
        "id": "0YepsITDBCDO"
      },
      "outputs": [],
      "source": [
        "# %%writefile -a {pluto_chapter_2}\n",
        "\n",
        "@add_method(PacktDataAug)\n",
        "def build_shoe_fname(self, start_path):\n",
        "  df = pandas.DataFrame()\n",
        "  for root, dirs, files in os.walk(start_path, topdown=False):\n",
        "   for name in files:\n",
        "      f = os.path.join(root, name)\n",
        "      p = pathlib.Path(f).parent.name\n",
        "      d = pandas.DataFrame({'fname': [f], 'label': [p]})\n",
        "      df = pandas.concat([df, d], ignore_index=True)\n",
        "      #df = df.append(d, ignore_index=True)\n",
        "  #\n",
        "  # clean it up\n",
        "  df = df.reset_index(drop=True)\n",
        "  return df\n",
        "#\n",
        "# create the same with a generic function name\n",
        "@add_method(PacktDataAug)\n",
        "def make_dir_dataframe(self, start_path):\n",
        "  return self.build_shoe_fname(start_path)"
      ]
    },
    {
      "cell_type": "code",
      "execution_count": null,
      "metadata": {
        "id": "pZd9PK8qBCGV"
      },
      "outputs": [],
      "source": [
        "f = 'kaggle/nike-adidas-and-converse-imaged/train'\n",
        "pluto.df_shoe_data = pluto.build_shoe_fname(f)"
      ]
    },
    {
      "cell_type": "code",
      "execution_count": null,
      "metadata": {
        "id": "d6yQ9foxNQeU"
      },
      "outputs": [],
      "source": [
        "# pluto.df_shoe_data.head(3)\n",
        "# use larger font\n",
        "pluto.df_shoe_data.head(3).style.set_table_styles(pluto._fetch_larger_font())"
      ]
    },
    {
      "cell_type": "code",
      "execution_count": null,
      "metadata": {
        "id": "POnMlbypF6w6"
      },
      "outputs": [],
      "source": [
        "pluto.df_shoe_data.tail(3).style.set_table_styles(pluto._fetch_larger_font())"
      ]
    },
    {
      "cell_type": "code",
      "execution_count": null,
      "metadata": {
        "id": "5laIx-5CKHci"
      },
      "outputs": [],
      "source": [
        "x = pluto.draw_batch(pluto.df_shoe_data[\"fname\"], is_shuffle=True)"
      ]
    },
    {
      "cell_type": "code",
      "execution_count": null,
      "metadata": {
        "id": "GttGBLD7KHgH"
      },
      "outputs": [],
      "source": [
        "x = pluto.draw_batch(pluto.df_shoe_data[\"fname\"], is_shuffle=True,disp_max=20,figsize=(18,14))"
      ]
    },
    {
      "cell_type": "markdown",
      "metadata": {
        "id": "f5yepxXNXP1j"
      },
      "source": [
        "## Grapevine Images"
      ]
    },
    {
      "cell_type": "code",
      "execution_count": null,
      "metadata": {
        "id": "2-d5upIYAUGQ"
      },
      "outputs": [],
      "source": [
        "#\n",
        "%%time\n",
        "url = \"https://www.kaggle.com/datasets/muratkokludataset/grapevine-leaves-image-dataset\"\n",
        "pluto.fetch_kaggle_dataset(url)"
      ]
    },
    {
      "cell_type": "code",
      "execution_count": null,
      "metadata": {
        "id": "ZdUXalz5B9YS"
      },
      "outputs": [],
      "source": [
        "!ls -la kaggle/grapevine-leaves-image-dataset/Grapevine_Leaves_Image_Dataset"
      ]
    },
    {
      "cell_type": "code",
      "execution_count": null,
      "metadata": {
        "id": "FThHU_5ADbzJ"
      },
      "outputs": [],
      "source": [
        "f = 'kaggle/grapevine-leaves-image-dataset/Grapevine_Leaves_Image_Dataset/Ak'\n",
        "!ls -la {f} | head"
      ]
    },
    {
      "cell_type": "markdown",
      "metadata": {
        "id": "fPZl5lLPDtGk"
      },
      "source": [
        "- remove all space in file name"
      ]
    },
    {
      "cell_type": "code",
      "execution_count": null,
      "metadata": {
        "id": "DZix-nbeDb2q"
      },
      "outputs": [],
      "source": [
        "# run this until no error/output\n",
        "f2 = 'kaggle/grapevine-leaves-image-dataset/Grapevine_Leaves_Image_Dataset'\n",
        "!find {f2} -name \"* *\" -type f | rename 's/ /_/g'"
      ]
    },
    {
      "cell_type": "code",
      "execution_count": null,
      "metadata": {
        "id": "iUBs0dnpEWo5"
      },
      "outputs": [],
      "source": [
        "!ls -la {f} | head"
      ]
    },
    {
      "cell_type": "code",
      "execution_count": null,
      "metadata": {
        "id": "YJQS_NbQEWr_"
      },
      "outputs": [],
      "source": [
        "f = 'kaggle/grapevine-leaves-image-dataset/Grapevine_Leaves_Image_Dataset/Grapevine_Leaves_Image_Dataset_Citation_Request.txt'\n",
        "!cat {f}"
      ]
    },
    {
      "cell_type": "code",
      "execution_count": null,
      "metadata": {
        "id": "sGO0X1OdEWvL"
      },
      "outputs": [],
      "source": [
        "!mv {f} ."
      ]
    },
    {
      "cell_type": "markdown",
      "metadata": {
        "id": "xoV6Y9fiHyEQ"
      },
      "source": [
        "- The grapevine image structure is the same as the shoe image.\n",
        "  - folder name is the label\n",
        "  - the images are in their respected folder\n",
        "  - No csv file"
      ]
    },
    {
      "cell_type": "code",
      "execution_count": null,
      "metadata": {
        "id": "mu6R0JvDIyRQ"
      },
      "outputs": [],
      "source": [
        "f = 'kaggle/grapevine-leaves-image-dataset/Grapevine_Leaves_Image_Dataset'\n",
        "pluto.df_grapevine_data = pluto.build_shoe_fname(f)\n",
        "pluto.df_grapevine_data.head(3)"
      ]
    },
    {
      "cell_type": "code",
      "execution_count": null,
      "metadata": {
        "id": "-iy0Mqw4IyUk"
      },
      "outputs": [],
      "source": [
        "x = pluto.draw_batch(pluto.df_grapevine_data[\"fname\"], is_shuffle=True)"
      ]
    },
    {
      "cell_type": "code",
      "execution_count": null,
      "metadata": {
        "id": "bESehTZcIyYd"
      },
      "outputs": [],
      "source": [
        "x = pluto.draw_batch(pluto.df_grapevine_data[\"fname\"], is_shuffle=True,disp_max=20,figsize=(18,14))"
      ]
    },
    {
      "cell_type": "markdown",
      "metadata": {
        "id": "X8RpBwppEPjJ"
      },
      "source": [
        "## Monkeypox (optional for Notebook only)"
      ]
    },
    {
      "cell_type": "markdown",
      "metadata": {
        "id": "ivVgADDcSwNc"
      },
      "source": [
        "- Uncoment before run."
      ]
    },
    {
      "cell_type": "code",
      "execution_count": null,
      "metadata": {
        "id": "YzukIrKQRJP-"
      },
      "outputs": [],
      "source": [
        "# # quick view one image\n",
        "# f = 'kaggle/monkeypox-skin-lesion-dataset/Original Images/Original Images/Monkey Pox/M01_03.jpg'\n",
        "# img = PIL.Image.open(f)\n",
        "# display(img)"
      ]
    },
    {
      "cell_type": "code",
      "execution_count": null,
      "metadata": {
        "id": "j8T7j5fQR10j"
      },
      "outputs": [],
      "source": [
        "# f = 'kaggle/monkeypox-skin-lesion-dataset/Augmented Images/Augmented Images/Monkeypox_augmented/M01_01_02.jpg'\n",
        "# img = PIL.Image.open(f)\n",
        "# display(img)"
      ]
    },
    {
      "cell_type": "code",
      "execution_count": null,
      "metadata": {
        "id": "2zF8CDztXOpq"
      },
      "outputs": [],
      "source": [
        "# f = 'kaggle/monkeypox-skin-lesion-dataset/Monkeypox_Dataset_metadata.csv'\n",
        "# pluto.df_monkey_data = pluto.fetch_df(f)\n",
        "# pluto.df_monkey_data.tail(3)"
      ]
    },
    {
      "cell_type": "markdown",
      "metadata": {
        "id": "7VW1NkFIaKeZ"
      },
      "source": [
        "- Run this until No error\n",
        "- 3 times for monkeypox"
      ]
    },
    {
      "cell_type": "code",
      "execution_count": null,
      "metadata": {
        "id": "94zilgGnUP4U"
      },
      "outputs": [],
      "source": [
        "# !find . -name \"* *\" -type d | rename 's/ /_/g'"
      ]
    },
    {
      "cell_type": "code",
      "execution_count": null,
      "metadata": {
        "id": "Jvj_VTTTUP1l"
      },
      "outputs": [],
      "source": [
        "# # %write -a {pluto_chapter_2}\n",
        "\n",
        "# @add_method(PacktDataAug)\n",
        "# def build_monkey_fname(self, df):\n",
        "#   url_monkey = 'kaggle/monkeypox-skin-lesion-dataset/Original_Images/Original_Images/Monkey_Pox/'\n",
        "#   url_other = 'kaggle/monkeypox-skin-lesion-dataset/Original_Images/Original_Images/Others/'\n",
        "#   df[\"fname\"] = url_monkey + df.ImageID + \".jpg\"\n",
        "#   # quick replace other\n",
        "#   df.loc[df['Label'] == 'Non Monkeypox', 'fname'] = url_other + df.ImageID + \".jpg\"\n",
        "#   return\n"
      ]
    },
    {
      "cell_type": "code",
      "execution_count": null,
      "metadata": {
        "id": "6SzJwXD8-4Vc"
      },
      "outputs": [],
      "source": [
        "# pluto.build_monkey_fname(pluto.df_monkey_data)\n",
        "# pluto.df_monkey_data.head(3)"
      ]
    },
    {
      "cell_type": "code",
      "execution_count": null,
      "metadata": {
        "id": "y1vUEyMk_HlV"
      },
      "outputs": [],
      "source": [
        "# pluto.df_monkey_data.tail(3)"
      ]
    },
    {
      "cell_type": "markdown",
      "metadata": {
        "id": "TSHn4pBvBDd6"
      },
      "source": [
        "- Draw it"
      ]
    },
    {
      "cell_type": "code",
      "execution_count": null,
      "metadata": {
        "id": "jzPx3_93BCAY"
      },
      "outputs": [],
      "source": [
        "# x = pluto.draw_batch(pluto.df_monkey_data[\"fname\"], is_shuffle=True)"
      ]
    },
    {
      "cell_type": "code",
      "execution_count": null,
      "metadata": {
        "id": "qhLRWfp8FfZh"
      },
      "outputs": [],
      "source": [
        "# x = pluto.draw_batch(pluto.df_monkey_data[\"fname\"], is_shuffle=True,disp_max=20,figsize=(18,14))"
      ]
    },
    {
      "cell_type": "markdown",
      "metadata": {
        "id": "L-VcqVraHmUD"
      },
      "source": [
        "# NLP (Text) data"
      ]
    },
    {
      "cell_type": "markdown",
      "metadata": {
        "id": "62oZJxvUv14r"
      },
      "source": [
        "## NetFlix"
      ]
    },
    {
      "cell_type": "code",
      "execution_count": null,
      "metadata": {
        "id": "GxTEQAe3NLk_"
      },
      "outputs": [],
      "source": [
        "%%time\n",
        "url = 'https://www.kaggle.com/datasets/infamouscoder/dataset-netflix-shows'\n",
        "pluto.fetch_kaggle_dataset(url)"
      ]
    },
    {
      "cell_type": "code",
      "execution_count": null,
      "metadata": {
        "id": "dULyUTA5NLv5"
      },
      "outputs": [],
      "source": [
        "f = 'kaggle/dataset-netflix-shows/netflix_titles.csv'\n",
        "pluto.df_netflix_data = pluto.fetch_df(f)\n",
        "#pluto.df_netflix_data.head(3)"
      ]
    },
    {
      "cell_type": "code",
      "execution_count": null,
      "metadata": {
        "id": "y1AqoWw8W9WL"
      },
      "outputs": [],
      "source": [
        "# %%writefile -a {pluto_chapter_2}\n",
        "\n",
        "@add_method(PacktDataAug)\n",
        "def print_batch_text(self,df_orig, disp_max=6, cols=[\"title\", \"description\"],is_larger_font=True):\n",
        "  df = df_orig[cols]\n",
        "  with pandas.option_context(\"display.max_colwidth\", None):\n",
        "    if (is_larger_font):\n",
        "      display(df.sample(disp_max).style.set_table_styles(self._fetch_larger_font()))\n",
        "    else:\n",
        "      display(df.sample(disp_max))\n",
        "  return\n"
      ]
    },
    {
      "cell_type": "markdown",
      "metadata": {
        "id": "xAAtoTx7ET5V"
      },
      "source": [
        "- Show table in three part for book  "
      ]
    },
    {
      "cell_type": "code",
      "execution_count": null,
      "metadata": {
        "id": "nuPQ1xbNFH5G"
      },
      "outputs": [],
      "source": [
        "pluto.print_batch_text(pluto.df_netflix_data.head(3),\n",
        "  disp_max=3,\n",
        "  cols=['show_id', 'type','title','director','cast'])"
      ]
    },
    {
      "cell_type": "code",
      "execution_count": null,
      "metadata": {
        "id": "-IU9lhl4FkV8"
      },
      "outputs": [],
      "source": [
        "pluto.print_batch_text(pluto.df_netflix_data.head(3),\n",
        "  disp_max=3,\n",
        "  cols=['country', 'date_added','release_year','rating'])"
      ]
    },
    {
      "cell_type": "code",
      "execution_count": null,
      "metadata": {
        "id": "T4b4QdarO0ba"
      },
      "outputs": [],
      "source": [
        "#pluto.df_netflix_data.head(3)[['duration', 'listed_in','description']].style.set_table_styles(pluto._fetch_larger_font())\n",
        "pluto.print_batch_text(pluto.df_netflix_data.head(3),\n",
        "  disp_max=3,\n",
        "  cols=['duration', 'listed_in','description'])"
      ]
    },
    {
      "cell_type": "code",
      "execution_count": null,
      "metadata": {
        "id": "3yMBi-uKNLzU"
      },
      "outputs": [],
      "source": [
        "#print(pluto.df_netflix_data.description[0])"
      ]
    },
    {
      "cell_type": "code",
      "execution_count": null,
      "metadata": {
        "id": "52RkujJwu8cV"
      },
      "outputs": [],
      "source": [
        "pluto.print_batch_text(pluto.df_netflix_data)"
      ]
    },
    {
      "cell_type": "code",
      "execution_count": null,
      "metadata": {
        "id": "aAvOL1kSZ57w"
      },
      "outputs": [],
      "source": [
        "# %%writefile -a {pluto_chapter_2}\n",
        "\n",
        "@add_method(PacktDataAug)\n",
        "def count_word(self, df, col_dest=\"description\"):\n",
        "  df['wordc'] = df[col_dest].apply(lambda x: len(x.split()))\n",
        "  return"
      ]
    },
    {
      "cell_type": "code",
      "execution_count": null,
      "metadata": {
        "id": "cmSKV0gQZ6mn"
      },
      "outputs": [],
      "source": [
        "pluto.count_word(pluto.df_netflix_data)\n",
        "# pluto.df_netflix_data.head()\n",
        "pluto.print_batch_text(pluto.df_netflix_data,cols=['description','wordc'])"
      ]
    },
    {
      "cell_type": "code",
      "execution_count": null,
      "metadata": {
        "id": "acjTlcQSdV8b"
      },
      "outputs": [],
      "source": [
        "# %%writefile -a {pluto_chapter_2}\n",
        "\n",
        "@add_method(PacktDataAug)\n",
        "def draw_word_count(self,df, wc='wordc',is_stack_verticle=True):\n",
        "  if (is_stack_verticle):\n",
        "    canvas, pic = matplotlib.pyplot.subplots(2,1, figsize=(8,10))\n",
        "  else:\n",
        "    canvas, pic = matplotlib.pyplot.subplots(1,2, figsize=(16,5))\n",
        "  df.boxplot(ax=pic[0],column=[wc],vert=False,color=\"black\")\n",
        "  df[wc].hist(ax=pic[1], color=\"cornflowerblue\", alpha=0.9)\n",
        "  #\n",
        "  title=[\"Description BoxPlot\", \"Description Histogram\"]\n",
        "  yaxis=[\"Description\", \"Stack\"]\n",
        "  x1 = f'Word Count: Mean: {df[wc].mean():0.2f}, Min: {df[wc].min()}, Max: {df[wc].max()}'\n",
        "  xaxis=[x1, \"Word Count\"]\n",
        "  #\n",
        "  pic[0].set_title(title[0], fontweight =\"bold\")\n",
        "  pic[1].set_title(title[1], fontweight =\"bold\")\n",
        "  pic[0].set_ylabel(yaxis[0])\n",
        "  pic[1].set_ylabel(yaxis[1])\n",
        "  pic[0].set_xlabel(xaxis[0])\n",
        "  pic[1].set_xlabel(xaxis[1])\n",
        "  #\n",
        "  canvas.tight_layout()\n",
        "  self._drop_image(canvas)\n",
        "  #\n",
        "  canvas.show()\n",
        "  return"
      ]
    },
    {
      "cell_type": "code",
      "execution_count": null,
      "metadata": {
        "id": "yT6sgrOggfmJ"
      },
      "outputs": [],
      "source": [
        "pluto.draw_word_count(pluto.df_netflix_data, is_stack_verticle=False)"
      ]
    },
    {
      "cell_type": "code",
      "execution_count": null,
      "metadata": {
        "id": "MXJLBhwdtbGl"
      },
      "outputs": [],
      "source": [
        "pluto.draw_word_count(pluto.df_netflix_data)"
      ]
    },
    {
      "cell_type": "markdown",
      "metadata": {
        "id": "Se_OcR7cWc8p"
      },
      "source": [
        "## Spell checker"
      ]
    },
    {
      "cell_type": "code",
      "execution_count": null,
      "metadata": {
        "id": "fCygEQbLWbj6"
      },
      "outputs": [],
      "source": [
        "# %%CARRY-OVER code install\n",
        "\n",
        "!pip install pyspellchecker"
      ]
    },
    {
      "cell_type": "code",
      "execution_count": null,
      "metadata": {
        "id": "4D-0hhx0WbnA"
      },
      "outputs": [],
      "source": [
        "# %%writefile -a {pluto_chapter_2}\n",
        "\n",
        "import re\n",
        "import spellchecker\n",
        "@add_method(PacktDataAug)\n",
        "def _strip_punc(self,s):\n",
        "  p = re.sub(r'[^\\w\\s]','',s)\n",
        "  return(p)\n",
        "#\n",
        "@add_method(PacktDataAug)\n",
        "def check_spelling(self,df, col_dest='description'):\n",
        "  spell = spellchecker.SpellChecker()\n",
        "  df[\"misspelled\"] = df[col_dest].apply(lambda x: spell.unknown(self._strip_punc(x).split()))\n",
        "  df[\"misspelled_count\"] = df[\"misspelled\"].apply(lambda x: len(x))\n",
        "  return"
      ]
    },
    {
      "cell_type": "code",
      "execution_count": null,
      "metadata": {
        "id": "-kEGGHiHG7Xu"
      },
      "outputs": [],
      "source": [
        "pluto._pp(\"Required version 0.7+\", spellchecker.__version__)"
      ]
    },
    {
      "cell_type": "code",
      "execution_count": null,
      "metadata": {
        "id": "stTJxEYWWbqT"
      },
      "outputs": [],
      "source": [
        "pluto.check_spelling(pluto.df_netflix_data)"
      ]
    },
    {
      "cell_type": "code",
      "execution_count": null,
      "metadata": {
        "id": "UnplTCzBbJHU"
      },
      "outputs": [],
      "source": [
        "pluto.print_batch_text(pluto.df_netflix_data,cols=['description', 'misspelled'])"
      ]
    },
    {
      "cell_type": "code",
      "execution_count": null,
      "metadata": {
        "id": "r4XDpkifbJKi"
      },
      "outputs": [],
      "source": [
        "pluto.draw_word_count(pluto.df_netflix_data,wc='misspelled_count')"
      ]
    },
    {
      "cell_type": "markdown",
      "metadata": {
        "id": "hTrkXuUUX8bS"
      },
      "source": [
        "## Amazon review"
      ]
    },
    {
      "cell_type": "code",
      "execution_count": null,
      "metadata": {
        "id": "sqcBOQJSX7XG"
      },
      "outputs": [],
      "source": [
        "%%time\n",
        "url = 'https://www.kaggle.com/datasets/tarkkaanko/amazon'\n",
        "pluto.fetch_kaggle_dataset(url)"
      ]
    },
    {
      "cell_type": "code",
      "execution_count": null,
      "metadata": {
        "id": "Qze-n7Q6X7aS"
      },
      "outputs": [],
      "source": [
        "f = 'kaggle/amazon/amazon_reviews.csv'\n",
        "pluto.df_amazon_data = pluto.fetch_df(f)\n",
        "pluto.df_amazon_data.head(3)"
      ]
    },
    {
      "cell_type": "code",
      "execution_count": null,
      "metadata": {
        "id": "mHPoeB93HAER"
      },
      "outputs": [],
      "source": [
        "# there is a \"nan\" in the amazon data, so drop/delete it.\n",
        "pluto.df_amazon_data = pluto.df_amazon_data.dropna()"
      ]
    },
    {
      "cell_type": "code",
      "execution_count": null,
      "metadata": {
        "id": "eB6OwxXmdvQb"
      },
      "outputs": [],
      "source": [
        "pluto.check_spelling(pluto.df_amazon_data,col_dest='reviewText')"
      ]
    },
    {
      "cell_type": "code",
      "execution_count": null,
      "metadata": {
        "id": "PkZewkTTX7d_"
      },
      "outputs": [],
      "source": [
        "pluto.print_batch_text(pluto.df_amazon_data, cols=['reviewText','misspelled'])"
      ]
    },
    {
      "cell_type": "code",
      "execution_count": null,
      "metadata": {
        "id": "KKzQYshSX7kN"
      },
      "outputs": [],
      "source": [
        "pluto.count_word(pluto.df_amazon_data,col_dest='reviewText')"
      ]
    },
    {
      "cell_type": "code",
      "execution_count": null,
      "metadata": {
        "id": "CNA2t2UdHfGc"
      },
      "outputs": [],
      "source": [
        "pluto.draw_word_count(pluto.df_amazon_data)"
      ]
    },
    {
      "cell_type": "code",
      "execution_count": null,
      "metadata": {
        "id": "KOIXZwOkedAU"
      },
      "outputs": [],
      "source": [
        "pluto.draw_word_count(pluto.df_amazon_data, wc='misspelled_count')"
      ]
    },
    {
      "cell_type": "code",
      "execution_count": null,
      "metadata": {
        "id": "B1EShKkLVpWL"
      },
      "outputs": [],
      "source": [
        "# end of chapter 2\n",
        "print('End of chapter 2')"
      ]
    },
    {
      "cell_type": "markdown",
      "metadata": {
        "id": "LEj7fgaIN9_S"
      },
      "source": [
        "# Push up all changes (optional)"
      ]
    },
    {
      "cell_type": "markdown",
      "metadata": {
        "id": "lHXRf21BT9N8"
      },
      "source": [
        "- username: [use your name or email]\n",
        "\n",
        "- password: [use the token]"
      ]
    },
    {
      "cell_type": "code",
      "execution_count": null,
      "metadata": {
        "id": "eSXJKJFlOEeE"
      },
      "outputs": [],
      "source": [
        "# import os\n",
        "# f = 'Data-Augmentation-with-Python'\n",
        "# os.chdir(f)\n",
        "# !git add -A\n",
        "# !git config --global user.email \"duc.haba@gmail.com\"\n",
        "# !git config --global user.name \"duchaba\"\n",
        "# !git commit -m \"end of session\"\n",
        "# #do the git push in the xterm console\n",
        "# #!git push"
      ]
    },
    {
      "cell_type": "markdown",
      "metadata": {
        "id": "EzO7lDYDWeLz"
      },
      "source": [
        "# Summary"
      ]
    },
    {
      "cell_type": "markdown",
      "metadata": {
        "id": "X2iUPf3EWePd"
      },
      "source": [
        "Every chaper will begin with same base class \"PacktDataAug\".\n",
        "\n",
        "✋ FAIR WARNING:\n",
        "\n",
        "- The coding uses long and complete function path name.\n",
        "\n",
        "- I wrote the code for easy to understand and not for compactness, fast execution, nor cleaverness.\n",
        "\n"
      ]
    },
    {
      "cell_type": "code",
      "execution_count": null,
      "metadata": {
        "id": "vXRG3KaeWbGx"
      },
      "outputs": [],
      "source": [
        "# !pip install colab-xterm\n",
        "# %load_ext colabxterm\n",
        "# %xterm"
      ]
    }
  ],
  "metadata": {
    "accelerator": "GPU",
    "colab": {
      "provenance": [],
      "toc_visible": true,
      "include_colab_link": true
    },
    "gpuClass": "standard",
    "kernelspec": {
      "display_name": "Python 3",
      "name": "python3"
    },
    "language_info": {
      "name": "python"
    }
  },
  "nbformat": 4,
  "nbformat_minor": 0
}